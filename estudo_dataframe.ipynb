{
 "cells": [
  {
   "cell_type": "code",
   "execution_count": 2,
   "id": "eb3ce56e-7522-4e1b-8feb-944034ec5551",
   "metadata": {
    "tags": []
   },
   "outputs": [
    {
     "name": "stdout",
     "output_type": "stream",
     "text": [
      "Lista de Nomes:\n",
      " ['Ana', 'Marcos', 'Carlos']\n",
      "Primeiro Nome da Lista:\n",
      " Ana\n"
     ]
    }
   ],
   "source": [
    "import pandas as pd\n",
    "\n",
    "lista_nomes = ['Ana', 'Marcos', 'Carlos']\n",
    "print('Lista de Nomes:\\n',lista_nomes)\n",
    "print('Primeiro Nome da Lista:\\n',lista_nomes[0])"
   ]
  },
  {
   "cell_type": "code",
   "execution_count": 5,
   "id": "437c5a27-1635-4cf6-a098-408033adc4ea",
   "metadata": {
    "tags": []
   },
   "outputs": [
    {
     "name": "stdout",
     "output_type": "stream",
     "text": [
      "Dicionário de uma pessoa:\n",
      " {'nome': 'Ana', 'idade': 20, 'cidade': 'São Paulo'}\n",
      "Atributos do dicionário:\n",
      " Ana\n"
     ]
    }
   ],
   "source": [
    "dicionario_pessoas = {\n",
    "    'nome': 'Ana',\n",
    "    'idade': 20,\n",
    "    'cidade': 'São Paulo'\n",
    "}\n",
    "\n",
    "print('Dicionário de uma pessoa:\\n', dicionario_pessoas)\n",
    "print('Atributos do dicionário:\\n', dicionario_pessoas.get('nome'))"
   ]
  },
  {
   "cell_type": "code",
   "execution_count": 8,
   "id": "9392e989-61a7-44d3-bcaf-5004e43483a2",
   "metadata": {
    "tags": []
   },
   "outputs": [
    {
     "name": "stdout",
     "output_type": "stream",
     "text": [
      "DataFrame \n",
      "      Nome  Idade          Cidade\n",
      "0     Ana     20       São Paulo\n",
      "1   Saulo     30  Rio de Janeiro\n",
      "2  Carlos     25        Curitiba\n"
     ]
    }
   ],
   "source": [
    "dados = [\n",
    "    {'Nome': 'Ana', 'Idade': 20, 'Cidade': 'São Paulo'},\n",
    "    {'Nome': 'Saulo', 'Idade': 30, 'Cidade': 'Rio de Janeiro'},\n",
    "    {'Nome': 'Carlos', 'Idade': 25, 'Cidade': 'Curitiba'},\n",
    "]\n",
    "\n",
    "#dataframe = estrutura de dados bidimensional\n",
    "df = pd.DataFrame(dados)\n",
    "print('DataFrame \\n', df)"
   ]
  },
  {
   "cell_type": "code",
   "execution_count": 20,
   "id": "ee866e17-6cf7-4b0c-9c45-b3579e2d4687",
   "metadata": {
    "tags": []
   },
   "outputs": [
    {
     "name": "stdout",
     "output_type": "stream",
     "text": [
      "0       Ana\n",
      "1     Saulo\n",
      "2    Carlos\n",
      "Name: Nome:, dtype: object\n"
     ]
    }
   ],
   "source": [
    "#selecionar uma coluna\n",
    "print(df['Nome:'])\n"
   ]
  },
  {
   "cell_type": "code",
   "execution_count": 23,
   "id": "9952d3e1-f889-4ca8-9f9d-a20bffaba3f1",
   "metadata": {
    "tags": []
   },
   "outputs": [
    {
     "name": "stdout",
     "output_type": "stream",
     "text": [
      "    Nome:  Idade\n",
      "0     Ana     20\n",
      "1   Saulo     30\n",
      "2  Carlos     25\n"
     ]
    }
   ],
   "source": [
    "#selecionar várias colunas\n",
    "print(df[['Nome:', 'Idade']])"
   ]
  },
  {
   "cell_type": "code",
   "execution_count": 30,
   "id": "db24771e-c093-448c-89c6-94e77f29d807",
   "metadata": {
    "tags": []
   },
   "outputs": [
    {
     "name": "stdout",
     "output_type": "stream",
     "text": [
      "Primeira Linha:\n",
      " Nome:           Ana\n",
      "Idade            20\n",
      "Cidade    São Paulo\n",
      "Name: 0, dtype: object\n"
     ]
    }
   ],
   "source": [
    "#selecionar linhas pelo índice\n",
    "print('Primeira Linha:\\n', df.iloc[0])"
   ]
  },
  {
   "cell_type": "code",
   "execution_count": 33,
   "id": "f13319fe-27a6-496b-bf82-53fb31d6d342",
   "metadata": {
    "tags": []
   },
   "outputs": [
    {
     "name": "stdout",
     "output_type": "stream",
     "text": [
      "DataFrame atualizado: \n",
      "     Nome:  Idade          Cidade  Salário\n",
      "0     Ana     20       São Paulo     6000\n",
      "1   Saulo     30  Rio de Janeiro     5500\n",
      "2  Carlos     25        Curitiba     5000\n"
     ]
    }
   ],
   "source": [
    "#adicionar uma nova coluna\n",
    "df['Salário'] = [6000, 5500, 5000]\n",
    "print('DataFrame atualizado: \\n', df)"
   ]
  },
  {
   "cell_type": "code",
   "execution_count": 36,
   "id": "2dda525e-84e9-4fcd-b718-54a0e6c74913",
   "metadata": {
    "tags": []
   },
   "outputs": [
    {
     "name": "stdout",
     "output_type": "stream",
     "text": [
      "DataFrame atualizado: \n",
      "     Nome:  Idade          Cidade  Salário\n",
      "0     Ana     20       São Paulo     6000\n",
      "1   Saulo     30  Rio de Janeiro     5500\n",
      "2  Carlos     25        Curitiba     5000\n",
      "3    João     35    Porto ALegre     4900\n"
     ]
    }
   ],
   "source": [
    "#adicionar um novo registro\n",
    "df.loc[len(df)] = {\n",
    "    'Nome:': 'João',\n",
    "    'Idade': 35,\n",
    "    'Cidade': 'Porto ALegre',\n",
    "    'Salário': 4900\n",
    "}\n",
    "\n",
    "print('DataFrame atualizado: \\n', df)"
   ]
  },
  {
   "cell_type": "code",
   "execution_count": 40,
   "id": "263858f9-3166-49d1-ba9e-b11f7d96b132",
   "metadata": {
    "tags": []
   },
   "outputs": [
    {
     "name": "stdout",
     "output_type": "stream",
     "text": [
      "DataFrame atualizado: \n",
      "      Nome:  Idade          Cidade  Salário\n",
      "0      Ana     20       São Paulo     6000\n",
      "1    Saulo     30  Rio de Janeiro     5500\n",
      "2   Carlos     25        Curitiba     5000\n",
      "3     João     35    Porto ALegre     4900\n",
      "4  Alfredo     38   Florianópolis     4700\n"
     ]
    }
   ],
   "source": [
    "#adicionar um novo registro - Não precisa adicionar os campos, apenas os valores. Preste atenção: quando não usar os campos, é preciso adicionar os colchetes [] no lugar das chaves {}\n",
    "df.loc[len(df)] = [\n",
    "    'Alfredo',\n",
    "    38,\n",
    "    'Florianópolis',\n",
    "    4700\n",
    "]\n",
    "\n",
    "print('DataFrame atualizado: \\n', df) #Depois de atualizar o DataFrame, faça um \"print\" para visualizar ele;"
   ]
  },
  {
   "cell_type": "code",
   "execution_count": 43,
   "id": "0a6bf9c8-d7fc-478b-8498-770fc712f832",
   "metadata": {
    "tags": []
   },
   "outputs": [
    {
     "name": "stdout",
     "output_type": "stream",
     "text": [
      "DataFrame atualizado: \n",
      "      Nome:  Idade          Cidade  Salário       Cargo\n",
      "0      Ana     20       São Paulo     6000  Professora\n",
      "1    Saulo     30  Rio de Janeiro     5500   Professor\n",
      "2   Carlos     25        Curitiba     5000   Professor\n",
      "3     João     35    Porto ALegre     4900   Professor\n",
      "4  Alfredo     38   Florianópolis     4700   Professor\n"
     ]
    }
   ],
   "source": [
    "#adicionar uma nova coluna\n",
    "df['Cargo'] = ['Professora', 'Professor', 'Professor', 'Professor', 'Professor']\n",
    "\n",
    "print('DataFrame atualizado: \\n', df)"
   ]
  },
  {
   "cell_type": "code",
   "execution_count": 46,
   "id": "9ac12396-f101-4b92-bcc8-025d423dc743",
   "metadata": {
    "tags": []
   },
   "outputs": [
    {
     "name": "stdout",
     "output_type": "stream",
     "text": [
      "DataFrame atualizado: \n",
      "      Nome:  Idade          Cidade  Salário\n",
      "0      Ana     20       São Paulo     6000\n",
      "1    Saulo     30  Rio de Janeiro     5500\n",
      "2   Carlos     25        Curitiba     5000\n",
      "3     João     35    Porto ALegre     4900\n",
      "4  Alfredo     38   Florianópolis     4700\n"
     ]
    }
   ],
   "source": [
    "#remover uma coluna:\n",
    "df.drop(['Cargo'], axis=1, inplace=True)\n",
    "\n",
    "print('DataFrame atualizado: \\n', df)"
   ]
  },
  {
   "cell_type": "code",
   "execution_count": 49,
   "id": "8a2ed073-e9fb-44f3-a837-7cd56007f369",
   "metadata": {
    "tags": []
   },
   "outputs": [
    {
     "name": "stdout",
     "output_type": "stream",
     "text": [
      "Resultado do seu filtro:\n",
      "      Nome:  Idade          Cidade  Salário\n",
      "1    Saulo     30  Rio de Janeiro     5500\n",
      "3     João     35    Porto ALegre     4900\n",
      "4  Alfredo     38   Florianópolis     4700\n"
     ]
    }
   ],
   "source": [
    "# filtrando pessoas com mais de 29 anos:\n",
    "filtro_idade = df[df['Idade'] >= 30]\n",
    "print('Resultado do seu filtro:\\n', filtro_idade)"
   ]
  },
  {
   "cell_type": "code",
   "execution_count": 68,
   "id": "52fe760b-8be0-4717-a36a-b6a8de25409f",
   "metadata": {
    "tags": []
   },
   "outputs": [],
   "source": [
    "# salvar o DataFrame em arquivo CSV:\n",
    "df.to_csv('dados.csv', index=False)"
   ]
  },
  {
   "cell_type": "code",
   "execution_count": 70,
   "id": "1d50b461-38a8-446a-a059-4184c5b77651",
   "metadata": {
    "tags": []
   },
   "outputs": [
    {
     "name": "stdout",
     "output_type": "stream",
     "text": [
      "\n",
      " Leitura do CSV:\n",
      "      Nome:  Idade          Cidade  Salário\n",
      "0      Ana     20       São Paulo     6000\n",
      "1    Saulo     30  Rio de Janeiro     5500\n",
      "2   Carlos     25        Curitiba     5000\n",
      "3     João     35    Porto ALegre     4900\n",
      "4  Alfredo     38   Florianópolis     4700\n"
     ]
    }
   ],
   "source": [
    "# lendo um arquivo CSV:\n",
    "df_lido = pd.read_csv('dados.csv')\n",
    "print('\\n Leitura do CSV:\\n', df_lido)"
   ]
  },
  {
   "cell_type": "code",
   "execution_count": null,
   "id": "f8a52d1e-ce2c-4161-9f1c-b1c7018f5236",
   "metadata": {},
   "outputs": [],
   "source": []
  }
 ],
 "metadata": {
  "kernelspec": {
   "display_name": "Python 3 (ipykernel)",
   "language": "python",
   "name": "python3"
  },
  "language_info": {
   "codemirror_mode": {
    "name": "ipython",
    "version": 3
   },
   "file_extension": ".py",
   "mimetype": "text/x-python",
   "name": "python",
   "nbconvert_exporter": "python",
   "pygments_lexer": "ipython3",
   "version": "3.11.7"
  }
 },
 "nbformat": 4,
 "nbformat_minor": 5
}
