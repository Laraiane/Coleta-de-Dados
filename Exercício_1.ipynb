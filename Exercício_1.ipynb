{
 "cells": [
  {
   "cell_type": "markdown",
   "id": "352931ec-319e-43ca-a7ef-90cc2e4f3bf7",
   "metadata": {},
   "source": [
    "Vamos iniciar o nosso projeto de extração e manipulação de dados, utilizando inicialmente os dados do e-commerce books.toscrape.com. Este é um site para fins educativos para realizar web scraping de uma página fictícia de livraria. Vamos utilizar este site pois, se utilizássemos sites de e-commerce, poderíamos ser vistos como robôs que querem tentar invadir ou derrubar o site, afinal, muitos alunos acessariam o mesmo site e realizariam consultas.\n",
    "\n",
    "Para este primeiro exercício faça o seguinte:\n",
    "\n",
    "Mostre os primeiros 2000 caracteres do site https://books.toscrape.com/\n",
    "Armazene a requisição na variável requisicao.\n",
    "Use o print com a requisição para chegar no resultado. Utilize também a função prettify()"
   ]
  },
  {
   "cell_type": "code",
   "execution_count": 2,
   "id": "2dcffc26-8841-4136-a52f-a7c149cde2b9",
   "metadata": {
    "tags": []
   },
   "outputs": [
    {
     "name": "stdout",
     "output_type": "stream",
     "text": [
      "<!DOCTYPE html>\n",
      "<!--[if lt IE 7]>      <html lang=\"en-us\" class=\"no-js lt-ie9 lt-ie8 lt-ie7\"> <![endif]-->\n",
      "<!--[if IE 7]>         <html lang=\"en-us\" class=\"no-js lt-ie9 lt-ie8\"> <![endif]-->\n",
      "<!--[if IE 8]>         <html lang=\"en-us\" class=\"no-js lt-ie9\"> <![endif]-->\n",
      "<!--[if gt IE 8]><!-->\n",
      "<html class=\"no-js\" lang=\"en-us\">\n",
      " <!--<![endif]-->\n",
      " <head>\n",
      "  <title>\n",
      "   All products | Books to Scrape - Sandbox\n",
      "  </title>\n",
      "  <meta content=\"text/html; charset=utf-8\" http-equiv=\"content-type\"/>\n",
      "  <meta content=\"24th Jun 2016 09:29\" name=\"created\"/>\n",
      "  <meta content=\"\" name=\"description\"/>\n",
      "  <meta content=\"width=device-width\" name=\"viewport\"/>\n",
      "  <meta content=\"NOARCHIVE,NOCACHE\" name=\"robots\"/>\n",
      "  <!-- Le HTML5 shim, for IE6-8 support of HTML elements -->\n",
      "  <!--[if lt IE 9]>\n",
      "        <script src=\"//html5shim.googlecode.com/svn/trunk/html5.js\"></script>\n",
      "        <![endif]-->\n",
      "  <link href=\"static/oscar/favicon.ico\" rel=\"shortcut icon\"/>\n",
      "  <link href=\"static/oscar/css/styles.css\" rel=\"stylesheet\" type=\"text/css\"/>\n",
      "  <link href=\"static/oscar/js/bootstrap-datetimepicker/bootstrap-datetimepicker.css\" rel=\"stylesheet\"/>\n",
      "  <link href=\"static/oscar/css/datetimepicker.css\" rel=\"stylesheet\" type=\"text/css\"/>\n",
      " </head>\n",
      " <body class=\"default\" id=\"default\">\n",
      "  <header class=\"header container-fluid\">\n",
      "   <div class=\"page_inner\">\n",
      "    <div class=\"row\">\n",
      "     <div class=\"col-sm-8 h1\">\n",
      "      <a href=\"index.html\">\n",
      "       Books to Scrape\n",
      "      </a>\n",
      "      <small>\n",
      "       We love being scraped!\n",
      "      </small>\n",
      "     </div>\n",
      "    </div>\n",
      "   </div>\n",
      "  </header>\n",
      "  <div class=\"container-fluid page\">\n",
      "   <div class=\"page_inner\">\n",
      "    <ul class=\"breadcrumb\">\n",
      "     <li>\n",
      "      <a href=\"index.html\">\n",
      "       Home\n",
      "      </a>\n",
      "     </li>\n",
      "     <li class=\"active\">\n",
      "      All products\n",
      "     </li>\n",
      "    </ul>\n",
      "    <div class=\"row\">\n",
      "     <aside class=\"sidebar col-sm-4 col-md-3\">\n",
      "      <div id=\"promotions_left\">\n",
      "      </div>\n",
      "      <div class=\"side_categories\">\n",
      "       <ul class=\"nav nav-list\">\n",
      "        <li>\n",
      "         <a href=\"catalogue/category/bo\n"
     ]
    }
   ],
   "source": [
    "import requests\n",
    "from bs4 import BeautifulSoup\n",
    "import pandas as pd\n",
    "requests.packages.urllib3.disable_warnings()\n",
    "\n",
    "url = 'https://books.toscrape.com/'\n",
    "requisicao = requests.get(url)\n",
    "extracao = BeautifulSoup(requisicao.text, 'html.parser')\n",
    "\n",
    "\n",
    "print(extracao.prettify()[:2000])\n"
   ]
  },
  {
   "cell_type": "code",
   "execution_count": null,
   "id": "9cd3c348-5f68-46cc-a3f6-61a78bd19808",
   "metadata": {},
   "outputs": [],
   "source": []
  }
 ],
 "metadata": {
  "kernelspec": {
   "display_name": "Python 3 (ipykernel)",
   "language": "python",
   "name": "python3"
  },
  "language_info": {
   "codemirror_mode": {
    "name": "ipython",
    "version": 3
   },
   "file_extension": ".py",
   "mimetype": "text/x-python",
   "name": "python",
   "nbconvert_exporter": "python",
   "pygments_lexer": "ipython3",
   "version": "3.11.7"
  }
 },
 "nbformat": 4,
 "nbformat_minor": 5
}
