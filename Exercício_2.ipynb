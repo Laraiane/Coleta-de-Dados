{
 "cells": [
  {
   "cell_type": "markdown",
   "id": "14e1d6fc-7264-463b-89f0-ae47af117334",
   "metadata": {},
   "source": [
    "Agora mostre o título e o preço dos livros da primeira página do site https://books.toscrape.com/, para fazer isso é necessário seguir os passos abaixo:\n",
    "\n",
    "Parte 1\n",
    "Crie um for para encontrar a tag <h3> dentro da tag <article>\n",
    "Extraia os textos da tag <h3> e armazene na variável titulo. Essa variável depois deve ser utilizada para atualizar o valor de livro['Título']\n",
    "Crie outro for para encontrar a tag <p class=’’price_color’> com o findall('p', class='price_color'), dentro da tag <h3>\n",
    "Extraia os textos da tag <p> e armazene na variável preco. Essa variável depois deve ser utilizada para atualizar o valor de livro['Preço']\n",
    "Atente para a nomenclatura correta das variáveis e das chaves do dicionário. Os livros devem ser adicionados na lista catalogo, conforme o código padrão.\n",
    "    \n",
    "Parte 2\n",
    "Calcule a quantidade de livros da primeira página do site https://books.toscrape.com/:\n",
    "\n",
    "Você pode utilizar a mesma estrutura de for loop feita na parte 1.\n",
    "Armazene a quantidade de livros na variável contar_livros.\n",
    "Imprima a variável contar_livros"
   ]
  },
  {
   "cell_type": "code",
   "execution_count": 12,
   "id": "63c6ba04-c7d2-4ade-a7d5-fc5da5103059",
   "metadata": {
    "tags": []
   },
   "outputs": [
    {
     "name": "stdout",
     "output_type": "stream",
     "text": [
      "Título: A Light in the ..., Preço: £51.77\n",
      "Título: Tipping the Velvet, Preço: £53.74\n",
      "Título: Soumission, Preço: £50.10\n",
      "Título: Sharp Objects, Preço: £47.82\n",
      "Título: Sapiens: A Brief History ..., Preço: £54.23\n",
      "Título: The Requiem Red, Preço: £22.65\n",
      "Título: The Dirty Little Secrets ..., Preço: £33.34\n",
      "Título: The Coming Woman: A ..., Preço: £17.93\n",
      "Título: The Boys in the ..., Preço: £22.60\n",
      "Título: The Black Maria, Preço: £52.15\n",
      "Título: Starving Hearts (Triangular Trade ..., Preço: £13.99\n",
      "Título: Shakespeare's Sonnets, Preço: £20.66\n",
      "Título: Set Me Free, Preço: £17.46\n",
      "Título: Scott Pilgrim's Precious Little ..., Preço: £52.29\n",
      "Título: Rip it Up and ..., Preço: £35.02\n",
      "Título: Our Band Could Be ..., Preço: £57.25\n",
      "Título: Olio, Preço: £23.88\n",
      "Título: Mesaerion: The Best Science ..., Preço: £37.59\n",
      "Título: Libertarianism for Beginners, Preço: £51.33\n",
      "Título: It's Only the Himalayas, Preço: £45.17\n",
      "Total de livros: 20\n"
     ]
    }
   ],
   "source": [
    "import requests\n",
    "from bs4 import BeautifulSoup\n",
    "import pandas as pd\n",
    "requests.packages.urllib3.disable_warnings()\n",
    "\n",
    "url = 'https://books.toscrape.com/'\n",
    "requisicao = requests.get(url)\n",
    "requisicao.encoding = 'utf-8'\n",
    "\n",
    "extracao = BeautifulSoup(requisicao.text, 'html.parser')\n",
    "\n",
    "contar_livros = 0\n",
    "catalogo = []\n",
    "\n",
    "# Função para truncar o título\n",
    "def truncar_titulo(titulo):\n",
    "   palavras = titulo.split()\n",
    "   if len(palavras) > 4:\n",
    "       return ' '.join(palavras[:4]) + ' ...'\n",
    "   return titulo\n",
    "\n",
    "for artigo in extracao.find_all('article', class_='product_pod'):\n",
    "   livro = {}\n",
    "\n",
    "   # Extrai e trunca o título do livro\n",
    "   titulo_completo = artigo.find('h3').find('a')['title']\n",
    "   titulo_truncado = truncar_titulo(titulo_completo)\n",
    "   livro['Título'] = titulo_truncado\n",
    "\n",
    "   # Extrai o preço do livro\n",
    "   preco = artigo.find('p', class_='price_color').text\n",
    "   livro['Preço'] = preco\n",
    "\n",
    "   # Adiciona o livro ao catálogo\n",
    "   catalogo.append(livro)\n",
    "\n",
    "   # Incrementa o contador de livros\n",
    "   contar_livros += 1\n",
    "\n",
    "# Exibe o catálogo e o total de livros\n",
    "for livro in catalogo:\n",
    "   print(f\"Título: {livro['Título']}, Preço: {livro['Preço']}\")\n",
    "print('Total de livros:', contar_livros)"
   ]
  },
  {
   "cell_type": "code",
   "execution_count": null,
   "id": "a4c445d9-d9be-4704-9f79-0342fde7d9b6",
   "metadata": {},
   "outputs": [],
   "source": []
  }
 ],
 "metadata": {
  "kernelspec": {
   "display_name": "Python 3 (ipykernel)",
   "language": "python",
   "name": "python3"
  },
  "language_info": {
   "codemirror_mode": {
    "name": "ipython",
    "version": 3
   },
   "file_extension": ".py",
   "mimetype": "text/x-python",
   "name": "python",
   "nbconvert_exporter": "python",
   "pygments_lexer": "ipython3",
   "version": "3.11.7"
  }
 },
 "nbformat": 4,
 "nbformat_minor": 5
}
