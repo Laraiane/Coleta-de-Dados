{
 "cells": [
  {
   "cell_type": "code",
   "execution_count": 62,
   "id": "276228d7-632f-45af-89e6-8e5ec727a41b",
   "metadata": {
    "tags": []
   },
   "outputs": [
    {
     "name": "stdout",
     "output_type": "stream",
     "text": [
      "                   Nome:            CPF:   Idade:  Data de Nascimento:                                                                Endereço:              Estado:   País: \n",
      "0       Srta. Eloá Macedo  489.305.712-04       24           03/08/2000       Condomínio de Macedo, 258\\nLuxemburgo\\n99556659 Leão de Goiás / MG                Ceará  Brasil\n",
      "1            Levi Ribeiro  869.102.437-22       19           29/01/2005    Recanto Brenda da Mota, 7\\nVila Pinho\\n59542173 Costela de Pinto / BA              Paraíba  Brasil\n",
      "2     Vitor Gabriel Viana  683.150.492-24       50           26/04/1974    Viaduto Luiz Gustavo Moura\\nSanta Rita De Cássia\\n54391991 Viana / CE       Espírito Santo  Brasil\n",
      "3       Sr. Lucas Correia  607.923.841-13       20           28/12/2004                   Pátio Vieira, 74\\nPindura Saia\\n31567-584 Moreira / GO       Santa Catarina  Brasil\n",
      "4            Theo Cardoso  602.391.487-03       49           25/08/1975        Pátio Raul Fernandes, 20\\nEngenho Nogueira\\n81552-457 Garcia / AM             Maranhão  Brasil\n",
      "5  Pedro Henrique Pacheco  563.971.280-59       42           01/08/1982                  Campo Macedo, 82\\nMonte São José\\n47140-666 Macedo / AP              Paraíba  Brasil\n",
      "6       Maria Julia Viana  175.384.902-05       52           13/04/1972           Aeroporto de Silveira, 702\\nRio Branco\\n09787-467 Pimenta / RN                Piauí  Brasil\n",
      "7       Apollo Cavalcanti  721.456.803-90       42           20/05/1982                            Vila Leão, 82\\nGuarani\\n45597929 Almeida / RS          Mato Grosso  Brasil\n",
      "8          Felipe Martins  537.948.210-41       50           29/05/1974      Núcleo Araújo\\nVila Nova Gameleira 1ª Seção\\n18108-231 Pereira / RR           Pernambuco  Brasil\n",
      "9          Natália Moraes  275.039.186-59       42           14/05/1982  Campo Pacheco, 74\\nConjunto Providencia\\n25263-730 Barros do Campo / AC  Rio Grande do Norte  Brasil\n"
     ]
    }
   ],
   "source": [
    "import pandas as pd\n",
    "import random \n",
    "from faker import Faker\n",
    "\n",
    "fake = Faker('pt_Br')\n",
    "\n",
    "dados_pessoas = []\n",
    "\n",
    "for _ in range (10):\n",
    "    nome = fake.name()\n",
    "    cpf = fake.cpf()\n",
    "    idade = random.randint(18, 60)\n",
    "    data = fake.date_of_birth(minimum_age=idade, maximum_age=idade).strftime(\"%d/%m/%Y\")\n",
    "    endereco = fake.address()\n",
    "    estado = fake.state()\n",
    "    pais = 'Brasil'\n",
    "    \n",
    "    pessoa = {\n",
    "        'Nome: ': nome,\n",
    "        'CPF: ': cpf,\n",
    "        'Idade: ': idade,\n",
    "        'Data de Nascimento: ': data,\n",
    "        'Endereço: ': endereco,\n",
    "        'Estado: ': estado,\n",
    "        'País: ': pais\n",
    "    }\n",
    "    \n",
    "    dados_pessoas.append(pessoa)\n",
    "    \n",
    "df_pessoas = pd.DataFrame(dados_pessoas)\n",
    "# print(df_pessoas)\n",
    "\n",
    "# print(fake.name())\n",
    "# print(fake.cpf())\n",
    "# print(random.randint(18, 60))\n",
    "# print(fake.date_of_birth())\n",
    "# print(fake.address())\n",
    "# print(fake.state())\n",
    "# print(pais)\n",
    "\n",
    "pd.set_option('display.max_columns', None) #mostra todas as colunas existentes, sem limites\n",
    "pd.set_option('display.max_rows', None) #mostra todas as linhas existentes, sem limites\n",
    "pd.set_option('display.max_colwidth', None) #mostra o máximo de largura possível das colunas\n",
    "pd.set_option('display.width', None) #mostra o máximo de largura possível do display\n",
    "\n",
    "print(df_pessoas.to_string()) #o 'to_string' é para um DataFrame apenas"
   ]
  },
  {
   "cell_type": "code",
   "execution_count": 50,
   "id": "ad17dbfc-69f7-475c-ba81-2cd893aba499",
   "metadata": {
    "tags": []
   },
   "outputs": [],
   "source": [
    "df_pessoas.to_csv('clientes.csv')"
   ]
  },
  {
   "cell_type": "code",
   "execution_count": 72,
   "id": "05b36ea0-f7e0-42c3-9ef0-33b837505d16",
   "metadata": {
    "tags": []
   },
   "outputs": [
    {
     "name": "stdout",
     "output_type": "stream",
     "text": [
      "   Unnamed: 0             Nome:            CPF:   Idade:  Data de Nascimento:                                                                    Endereço:       Estado:   País: \n",
      "0           0      Catarina Melo  047.981.526-76       28           25/07/1996  Residencial de Borges, 5\\nVila Atila De Paiva\\n49132-212 Mendes Alegre / ES          Pará  Brasil\n",
      "1           1  Dr. Yan Gonçalves  265.987.104-30       38           06/06/1986                    Aeroporto Leão, 14\\nCidade Jardim\\n14359317 Nogueira / AP     Tocantins  Brasil\n",
      "2           2   Dr. Bryan Mendes  496.380.512-05       47           27/12/1977      Viaduto de das Neves, 68\\nAcaba Mundo\\n89542-606 Carvalho da Serra / TO      Maranhão  Brasil\n",
      "3           3      Samuel Mendes  136.075.894-10       48           22/03/1976       Parque Maria Eduarda da Mata, 41\\nNova Esperança\\n22048916 da Paz / RO   Mato Grosso  Brasil\n",
      "4           4     Ana Beatriz Sá  487.065.912-30       60           24/12/1964          Sítio das Neves, 29\\nNossa Senhora Aparecida\\n77807672 Peixoto / CE  Minas Gerais  Brasil\n"
     ]
    }
   ],
   "source": [
    "import pandas as pd\n",
    "\n",
    "df = pd.read_csv('clientes.csv')\n",
    "print(df.head().to_string())"
   ]
  },
  {
   "cell_type": "code",
   "execution_count": null,
   "id": "5883ab34-de94-4676-aaa6-8998f90d77e4",
   "metadata": {},
   "outputs": [],
   "source": []
  }
 ],
 "metadata": {
  "kernelspec": {
   "display_name": "Python 3 (ipykernel)",
   "language": "python",
   "name": "python3"
  },
  "language_info": {
   "codemirror_mode": {
    "name": "ipython",
    "version": 3
   },
   "file_extension": ".py",
   "mimetype": "text/x-python",
   "name": "python",
   "nbconvert_exporter": "python",
   "pygments_lexer": "ipython3",
   "version": "3.11.7"
  }
 },
 "nbformat": 4,
 "nbformat_minor": 5
}
