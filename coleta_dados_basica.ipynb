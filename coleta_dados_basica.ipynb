{
 "cells": [
  {
   "cell_type": "code",
   "execution_count": 1,
   "id": "38e9d4dc-db4a-4e9d-9793-06069edcd481",
   "metadata": {
    "tags": []
   },
   "outputs": [
    {
     "name": "stdout",
     "output_type": "stream",
     "text": [
      "Request: \n",
      "        <!doctype html>\n",
      "        <html lang=\"pt-BR\">\n",
      "\n",
      "        \n",
      "        <head>\n",
      "            <meta charset=\"UTF-8\">\n",
      "            <meta name=\"viewport\" content=\"width=device-width, initial-scale=1, shrink-to-fit=no\">\n",
      "\n",
      "            <style>\n",
      "                @charset \"UTF-8\";:root{--sapphire:#0091FF;--apatite:#32C5FF;--ruby:#FF5252;--xpamber:#F7B500;--gray:#6c757d;--amazonite:#44D7B6;--lightgray:#F5F7F8;--darkgray:#212121;--gray:#6C757D;--gray24:rgba(108, 117, 125, 0.24);--blue:#0091FF;--lightblue:#32C5FF;--yellow:#ffc709;--red:#FF5252;--emerald:#1eb980;--white:#ffffff}*{letter-spacing:normal!important}h\n",
      "\n",
      "\n",
      "BeautifulSoup: \n",
      "<!DOCTYPE html>\n",
      "<html lang=\"pt-BR\">\n",
      " <head>\n",
      "  <meta charset=\"utf-8\"/>\n",
      "  <meta content=\"width=device-width, initial-scale=1, shrink-to-fit=no\" name=\"viewport\"/>\n",
      "  <style>\n",
      "   @charset \"UTF-8\";:root{--sapphire:#0091FF;--apatite:#32C5FF;--ruby:#FF5252;--xpamber:#F7B500;--gray:#6c757d;--amazonite:#44D7B6;--lightgray:#F5F7F8;--darkgray:#212121;--gray:#6C757D;--gray24:rgba(108, 117, 125, 0.24);--blue:#0091FF;--lightblue:#32C5FF;--yellow:#ffc709;--red:#FF5252;--emerald:#1eb980;--white:#ffffff}*{letter-spacing:normal!important}html{scroll-behavior:smooth}body{font-family:\"Helvetica Neue\",\"Helvetica Neue LT Pro\",Helvetica,Arial,sans-serif;color:#000}a{color:var(--sapphire)}h1{letter-spacing:-.02em!important}p{font-weight:400!important}.hl-hat{display:block;font-size:.875rem;font-weight:400!important;line-height:16px;margin-bottom:4px;color:#666;width:100%}.hl-title{display:block}.hl-title a{color:#000}.hl-title-2{font-size:24px;line-height:28px;letter-spacing:-.01em!important;font-weight:700}.hl\n",
      "\n",
      "\n",
      "Pandas: \n",
      "Empty DataFrame\n",
      "Columns: [DATA, ABERTURA, FECHAMENTO, VARIAÇÃO, MÍNIMO, MÁXIMO, VOLUME]\n",
      "Index: []\n"
     ]
    }
   ],
   "source": [
    "\n",
    "import requests\n",
    "from bs4 import BeautifulSoup\n",
    "import pandas\n",
    "\n",
    "print('Request: ')\n",
    "response = requests.get('https://www.infomoney.com.br/cotacoes/b3/indice/ibovespa/historico/')\n",
    "print(response.text[:600])\n",
    "print('\\n')\n",
    "\n",
    "print('BeautifulSoup: ')\n",
    "soup = BeautifulSoup(response.text, 'html.parser')\n",
    "print(soup.prettify()[:1000])\n",
    "print('\\n')\n",
    "\n",
    "print('Pandas: ')\n",
    "url_dados = pandas.read_html('https://www.infomoney.com.br/cotacoes/b3/indice/ibovespa/historico/')\n",
    "print(url_dados[0].head(10))"
   ]
  },
  {
   "cell_type": "code",
   "execution_count": null,
   "id": "4ceed602-ecd6-491a-b5f7-ab47dc7354cf",
   "metadata": {},
   "outputs": [],
   "source": []
  }
 ],
 "metadata": {
  "kernelspec": {
   "display_name": "Python 3 (ipykernel)",
   "language": "python",
   "name": "python3"
  },
  "language_info": {
   "codemirror_mode": {
    "name": "ipython",
    "version": 3
   },
   "file_extension": ".py",
   "mimetype": "text/x-python",
   "name": "python",
   "nbconvert_exporter": "python",
   "pygments_lexer": "ipython3",
   "version": "3.11.7"
  }
 },
 "nbformat": 4,
 "nbformat_minor": 5
}
